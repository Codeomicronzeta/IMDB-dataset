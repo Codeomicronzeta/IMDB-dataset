{
  "nbformat": 4,
  "nbformat_minor": 0,
  "metadata": {
    "colab": {
      "name": "IMDB dataset.ipynb",
      "provenance": [],
      "collapsed_sections": [],
      "authorship_tag": "ABX9TyOlGoXIN7hgTqYUOZqh0GyF"
    },
    "kernelspec": {
      "name": "python3",
      "display_name": "Python 3"
    },
    "accelerator": "GPU"
  },
  "cells": [
    {
      "cell_type": "code",
      "metadata": {
        "id": "MqnbJrjIVpk1"
      },
      "source": [
        "from keras.datasets import imdb\n",
        "(train_data, train_labels), (test_data, test_labels) = imdb.load_data(num_words = 10000)"
      ],
      "execution_count": null,
      "outputs": []
    },
    {
      "cell_type": "code",
      "metadata": {
        "id": "Shz9gn6fZFu5"
      },
      "source": [
        "import numpy as np\n",
        "from keras import models\n",
        "from keras import layers\n",
        "from keras import optimizers\n",
        "from keras import losses\n",
        "from keras import metrics"
      ],
      "execution_count": null,
      "outputs": []
    },
    {
      "cell_type": "code",
      "metadata": {
        "id": "rKozm1KeVq7G",
        "colab": {
          "base_uri": "https://localhost:8080/",
          "height": 35
        },
        "outputId": "7a7c7073-436a-47c5-91b2-5f52730750b8"
      },
      "source": [
        "train_data.shape\n",
        "train_labels.shape"
      ],
      "execution_count": null,
      "outputs": [
        {
          "output_type": "execute_result",
          "data": {
            "text/plain": [
              "(25000,)"
            ]
          },
          "metadata": {
            "tags": []
          },
          "execution_count": 3
        }
      ]
    },
    {
      "cell_type": "code",
      "metadata": {
        "id": "BsnR9nKEVq47",
        "colab": {
          "base_uri": "https://localhost:8080/",
          "height": 35
        },
        "outputId": "ac8bb3e8-657c-48d3-8a18-c6ef47780c03"
      },
      "source": [
        "max([max(sequence) for sequence in train_data])"
      ],
      "execution_count": null,
      "outputs": [
        {
          "output_type": "execute_result",
          "data": {
            "text/plain": [
              "9999"
            ]
          },
          "metadata": {
            "tags": []
          },
          "execution_count": 4
        }
      ]
    },
    {
      "cell_type": "code",
      "metadata": {
        "id": "J6CbgmwPVq2s"
      },
      "source": [
        "word_index = imdb.get_word_index()                                                      #word_index is dictionary mapping words to integer index\n",
        "reverse_word_index = dict([(value, key) for (key, value) in word_index.items()])        # reverse_word_index reverses mapping , maps from integer to words\n",
        "decoded_review = ' '.join([reverse_word_index.get(i - 3, '?') for i in train_data[0]])"
      ],
      "execution_count": null,
      "outputs": []
    },
    {
      "cell_type": "code",
      "metadata": {
        "id": "Bb79XQ_qVq1H"
      },
      "source": [
        "\"\"\"Vectorizing the data: One Hot encoding the integer sequences\"\"\"\n",
        "def vectorize_sequences(sequences, dimension = 10000):\n",
        "  results = np.zeros((len(sequences), dimension))\n",
        "  for i, sequence in enumerate(sequences):\n",
        "    results[i, sequence] = 1.\n",
        "  return results\n",
        "  \n",
        "x_train = vectorize_sequences(train_data)\n",
        "x_test = vectorize_sequences(test_data)"
      ],
      "execution_count": null,
      "outputs": []
    },
    {
      "cell_type": "code",
      "metadata": {
        "id": "J69cGkpwYS4U"
      },
      "source": [
        "y_train = np.asarray(train_labels).astype('float32')\n",
        "y_test = np.asarray(test_labels).astype('float32')"
      ],
      "execution_count": null,
      "outputs": []
    },
    {
      "cell_type": "code",
      "metadata": {
        "id": "FC_s7Yp8ol49"
      },
      "source": [
        "x_val = x_train[:10000]\n",
        "partial_x_train = x_train[10000:]\n",
        "y_val = y_train[:10000]\n",
        "partial_y_train = y_train[10000:]"
      ],
      "execution_count": null,
      "outputs": []
    },
    {
      "cell_type": "code",
      "metadata": {
        "id": "EBt5xM_2YTOd"
      },
      "source": [
        "\"\"\"Setting up the model\"\"\"\n",
        "model = models.Sequential()\n",
        "model.add(layers.Dense(16, activation = 'relu', input_shape = (10000, )))\n",
        "model.add(layers.Dense(16, activation = 'relu'))\n",
        "model.add(layers.Dense(1, activation = 'sigmoid'))"
      ],
      "execution_count": null,
      "outputs": []
    },
    {
      "cell_type": "code",
      "metadata": {
        "id": "Bq3mdyzQYTNC"
      },
      "source": [
        "\"\"\"Compiling the model\"\"\"\n",
        "model.compile(optimizer = 'rmsprop', loss = 'binary_crossentropy', metrics = ['acc'])"
      ],
      "execution_count": null,
      "outputs": []
    },
    {
      "cell_type": "code",
      "metadata": {
        "id": "9b8mu6IVYTJo",
        "colab": {
          "base_uri": "https://localhost:8080/",
          "height": 770
        },
        "outputId": "7574e96f-bd74-45dd-d4ba-09f26929cc28"
      },
      "source": [
        "model.fit(partial_x_train, partial_y_train, epochs = 20, batch_size = 512, validation_data = (x_val, y_val))\n",
        "results = model.evaluate(x_train, y_train)"
      ],
      "execution_count": null,
      "outputs": [
        {
          "output_type": "stream",
          "text": [
            "Epoch 1/20\n",
            "30/30 [==============================] - 1s 25ms/step - loss: 0.0021 - acc: 0.9995 - val_loss: 1.0463 - val_acc: 0.8592\n",
            "Epoch 2/20\n",
            "30/30 [==============================] - 1s 18ms/step - loss: 2.5249e-04 - acc: 1.0000 - val_loss: 1.0610 - val_acc: 0.8590\n",
            "Epoch 3/20\n",
            "30/30 [==============================] - 1s 18ms/step - loss: 2.1359e-04 - acc: 1.0000 - val_loss: 1.0947 - val_acc: 0.8585\n",
            "Epoch 4/20\n",
            "30/30 [==============================] - 1s 18ms/step - loss: 0.0035 - acc: 0.9990 - val_loss: 1.1447 - val_acc: 0.8573\n",
            "Epoch 5/20\n",
            "30/30 [==============================] - 1s 18ms/step - loss: 1.3470e-04 - acc: 1.0000 - val_loss: 1.1486 - val_acc: 0.8566\n",
            "Epoch 6/20\n",
            "30/30 [==============================] - 1s 18ms/step - loss: 1.1326e-04 - acc: 1.0000 - val_loss: 1.1669 - val_acc: 0.8574\n",
            "Epoch 7/20\n",
            "30/30 [==============================] - 1s 18ms/step - loss: 9.5606e-05 - acc: 1.0000 - val_loss: 1.2082 - val_acc: 0.8565\n",
            "Epoch 8/20\n",
            "30/30 [==============================] - 1s 18ms/step - loss: 0.0027 - acc: 0.9993 - val_loss: 1.2629 - val_acc: 0.8564\n",
            "Epoch 9/20\n",
            "30/30 [==============================] - 1s 18ms/step - loss: 5.4878e-05 - acc: 1.0000 - val_loss: 1.2722 - val_acc: 0.8555\n",
            "Epoch 10/20\n",
            "30/30 [==============================] - 1s 18ms/step - loss: 4.6724e-05 - acc: 1.0000 - val_loss: 1.2880 - val_acc: 0.8554\n",
            "Epoch 11/20\n",
            "30/30 [==============================] - 1s 18ms/step - loss: 3.9339e-05 - acc: 1.0000 - val_loss: 1.3239 - val_acc: 0.8552\n",
            "Epoch 12/20\n",
            "30/30 [==============================] - 1s 18ms/step - loss: 0.0020 - acc: 0.9995 - val_loss: 1.4040 - val_acc: 0.8536\n",
            "Epoch 13/20\n",
            "30/30 [==============================] - 1s 18ms/step - loss: 2.9222e-05 - acc: 1.0000 - val_loss: 1.4010 - val_acc: 0.8537\n",
            "Epoch 14/20\n",
            "30/30 [==============================] - 1s 18ms/step - loss: 2.2338e-05 - acc: 1.0000 - val_loss: 1.4119 - val_acc: 0.8540\n",
            "Epoch 15/20\n",
            "30/30 [==============================] - 1s 18ms/step - loss: 1.8769e-05 - acc: 1.0000 - val_loss: 1.4333 - val_acc: 0.8539\n",
            "Epoch 16/20\n",
            "30/30 [==============================] - 1s 18ms/step - loss: 1.4901e-05 - acc: 1.0000 - val_loss: 1.4813 - val_acc: 0.8546\n",
            "Epoch 17/20\n",
            "30/30 [==============================] - 1s 18ms/step - loss: 6.9004e-04 - acc: 0.9997 - val_loss: 1.5299 - val_acc: 0.8555\n",
            "Epoch 18/20\n",
            "30/30 [==============================] - 1s 18ms/step - loss: 1.0492e-05 - acc: 1.0000 - val_loss: 1.5384 - val_acc: 0.8554\n",
            "Epoch 19/20\n",
            "30/30 [==============================] - 1s 18ms/step - loss: 8.1533e-06 - acc: 1.0000 - val_loss: 1.5521 - val_acc: 0.8544\n",
            "Epoch 20/20\n",
            "30/30 [==============================] - 1s 18ms/step - loss: 6.7549e-06 - acc: 1.0000 - val_loss: 1.5755 - val_acc: 0.8546\n",
            "782/782 [==============================] - 2s 2ms/step - loss: 0.6302 - acc: 0.9418\n"
          ],
          "name": "stdout"
        }
      ]
    },
    {
      "cell_type": "code",
      "metadata": {
        "id": "SvFaTG2JYTHD",
        "colab": {
          "base_uri": "https://localhost:8080/",
          "height": 182
        },
        "outputId": "e226d83f-d87b-4a9a-8684-1e3c231fb896"
      },
      "source": [
        "model.fit(x_test, y_test, epochs = 4, batch_size = 512)\n",
        "results = model.evaluate(x_test, y_test)"
      ],
      "execution_count": null,
      "outputs": [
        {
          "output_type": "stream",
          "text": [
            "Epoch 1/4\n",
            "49/49 [==============================] - 1s 12ms/step - loss: 1.1315 - acc: 0.8498\n",
            "Epoch 2/4\n",
            "49/49 [==============================] - 1s 12ms/step - loss: 0.3805 - acc: 0.8793\n",
            "Epoch 3/4\n",
            "49/49 [==============================] - 1s 12ms/step - loss: 0.2660 - acc: 0.9008\n",
            "Epoch 4/4\n",
            "49/49 [==============================] - 1s 12ms/step - loss: 0.2235 - acc: 0.9174\n",
            "782/782 [==============================] - 2s 3ms/step - loss: 0.1883 - acc: 0.9337\n"
          ],
          "name": "stdout"
        }
      ]
    },
    {
      "cell_type": "code",
      "metadata": {
        "id": "uj4Sh_zeYS-x"
      },
      "source": [
        ""
      ],
      "execution_count": null,
      "outputs": []
    },
    {
      "cell_type": "code",
      "metadata": {
        "id": "i75nwdTVVqzK"
      },
      "source": [
        ""
      ],
      "execution_count": null,
      "outputs": []
    },
    {
      "cell_type": "code",
      "metadata": {
        "id": "K8KuZv1KVqwk"
      },
      "source": [
        ""
      ],
      "execution_count": null,
      "outputs": []
    },
    {
      "cell_type": "code",
      "metadata": {
        "id": "F81ZhhQZVquc"
      },
      "source": [
        ""
      ],
      "execution_count": null,
      "outputs": []
    },
    {
      "cell_type": "code",
      "metadata": {
        "id": "ftB_M4vPVqrr"
      },
      "source": [
        ""
      ],
      "execution_count": null,
      "outputs": []
    }
  ]
}